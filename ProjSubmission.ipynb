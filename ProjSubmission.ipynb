{
 "cells": [
  {
   "cell_type": "markdown",
   "id": "5a488f6f-c0b3-4434-a940-c8a39e73ce90",
   "metadata": {
    "tags": []
   },
   "source": [
    "## DSCI 100 (Mar. 2023) Group Project Final Report\n",
    "\n",
    "Group 13\n",
    "- Wenhui (Bessie) Bao, 59773879\n",
    "- Lily (Hsin Yi) Wang, 76330125\n",
    "- Sai Gubba, 94736980\n",
    "- Isabella Paolozza, 81172967"
   ]
  },
  {
   "cell_type": "markdown",
   "id": "52877127-dfee-47e5-a6e8-b5efbdf9ca4f",
   "metadata": {},
   "source": [
    "### Addressing BC’s Healthcare Shortage: Prediction of Angiographic Disease (Heart Disease) Status Using KNN Classification"
   ]
  },
  {
   "cell_type": "markdown",
   "id": "bec578d7-8d55-4970-9f00-e150aef83cce",
   "metadata": {},
   "source": [
    "#### Introduction:\n",
    "\n",
    "Heart disease was one of the 10 leading causes of deaths worldwide in 2019 (World Health Organization, 2020). These casualties are attributed to numerous potential factors, including but not limited to blood pressure, age, and sex. Our research project aims to answer the following question: what percent accuracy can KNN classification predict the angiographic disease status, mild or severe by investigating a dataset with a sample of 219 people in Cleveland. \n",
    "\n",
    "There are datasets with heart disease information from different regions that can be found at “https://archive.ics.uci.edu/ml/datasets/Heart+Disease”. To be more specific, we are using the Cleveland dataset. This dataset includes 219 observations from individual patients (each row represents a single patient) recorded for 14 variables (see definitions of column names 1 in appendix), with no missing values.\n",
    "\n",
    "##### Background information (Literature Summary): \n",
    "Studies have explored the relationship between certain risk factors and angiographic disease (Benson et al., 2019; Carson et al., 2020; Jousilaht et al., 1999). Correlating factors included: age, sex, diabetes, blood pressure and more (Benson et al.; Jousihlaht et al.). Other attributes, like smoking, are not included in this dataset. Risk factors such as cholesterol levels and chest pain are found to not have meaningful correlation to angiographic disease (Benson et al.; Carson et al.). The above are expected to have good predictive power for angiographic disease diagnosis and will be considered when choosing predictors for the KNN classifier."
   ]
  },
  {
   "cell_type": "markdown",
   "id": "0ddbf6bf-e519-46c6-81e2-28079c0c5d42",
   "metadata": {},
   "source": [
    "#### Methods"
   ]
  },
  {
   "cell_type": "markdown",
   "id": "11e5c146-e5e0-4275-8968-aa885c229f83",
   "metadata": {},
   "source": [
    "##### Initial Selection of Predictor Variables for our KNN Classification Algorithm"
   ]
  },
  {
   "cell_type": "markdown",
   "id": "78d8a1d9-cefd-42b9-9e32-8f9692900b97",
   "metadata": {},
   "source": [
    "In order to create a K Nearest Neighbors Classification algorithm for diagnosis of severity of angiographic disease, we first had to choose our predictor variables. We began by reviewing existing scientific literature on factors that relate to heart disease, so as to determine which variables will potentially be useful for the development of a knn-classification model with the maximum accuracy. \n",
    "\n",
    "Subsequently, the heart disease dataset (Cleveland) was read into an R Jupyter Notebook to be inspected and tidied using the tidyverse package. The original dataset was mostly tidy, there are no missing values so removal of NA was not necessary. However, all variables, including categorical ones, were in dbl and the columns were unnamed, so required data wrangling included assigning the data frame to an object, converting categorical variables to fct and naming columns as defined by descriptions from the database.\n",
    "\n",
    "Next, the dataset was split into a training and testing set with seed(2023) and 75% of the rows in the training set. Data from the training set was to be used to build the knn-classification model, while data from the testing set represented “new patients” and will be used to test the model’s accuracy since the true diagnosis is known. \n",
    "\n",
    "An exploratory data analysis was performed using the training data, which should be reflective of the overall dataset. The size of the dataset was identified, as well as the means, standard deviations, minimums and maximums of each variable; these characteristics will be considered for scaling and choosing folds for cross validation. \n",
    "\n",
    "Graphs were created, plotting each variable against diagnosis. Histograms were used to visualize the distribution of numerical variables, while bar plots were used to visualize the proportions of categorical attributes between mild and severe patients. Potential efficacy of a variable was visually determined by looking for differences in distributions and proportions in attributes between patient groups (patients of mild vs. severe diagnosis)."
   ]
  },
  {
   "cell_type": "markdown",
   "id": "1f7b5ae9-25a6-4ce5-8788-32f4476cf521",
   "metadata": {},
   "source": [
    "##### Final Selection of Predictor Variables for our KNN Classification Algorithm"
   ]
  },
  {
   "cell_type": "markdown",
   "id": "91d398fe-57d0-43b8-9142-aac57678bdee",
   "metadata": {},
   "source": [
    "For the next steps, numerical variables were necessary in order for the knn-classification model to calculate distances between points. Factor variables were converted back to numeric. \n",
    "\n",
    "Using the 8 initially selected variables, ones that demonstrate different distribution between mild and severe diagnosis, the 4-loop method was performed to definitively determine the predictive power of each variable. This method tests each combination of variables using a model workflow with tuned/optimal k value then evaluates the maximum accuracy of each combination using 10-fold cross validation. We chose 10 folds instead of 5 folds since a higher number of folds will provide a more robust estimate of the model's performance in terms of accuracy with a relatively small training dataset. We visually inspected the resulting accuracies in a table. Variables that decrease the accuracy of the classifier, or do not contribute to a meaningful increase in accuracy, were omitted in the final selection of variables. "
   ]
  },
  {
   "cell_type": "markdown",
   "id": "2550bc0c-8a9c-450b-a1f6-9bc3f14f3c28",
   "metadata": {},
   "source": [
    "##### Finalizing and Testing Accuracy of our KNN Classification Algorithm"
   ]
  },
  {
   "cell_type": "markdown",
   "id": "e881f262-d3e3-44b7-9c3f-c6aad2b7f666",
   "metadata": {},
   "source": [
    "Using our final selection of predictors (age, sex, exang, restecg, thal; see definitions in appendix), we created a classification model to tune. With a recipe of our selected predictors that scales and centers all predictors so that they are on a comparable scale, we tested 10 different k values from 1 to 20, then extracted and visualized the resulting accuracy with a line plot. After determining the k value that optimizes accuracy, we created our final classification model specified with k = 15. This algorithm was then tested using observations measured from “new patients” (ie. testing set). The predictions were bound to the testing data frame, accuracy was computed then visualized using a confusion matrix due to the large number of predictors. An additional pair of scatterplots for true vs predicted diagnosis, using age and thal (which had the most variation in values) and color coded by diagnosis, were used to visualize the accuracy of the predicted diagnosis."
   ]
  },
  {
   "cell_type": "markdown",
   "id": "abf16796-eb94-4d20-845d-f984737739b6",
   "metadata": {},
   "source": [
    "##### Corresponding Coding for Data Analysis"
   ]
  },
  {
   "cell_type": "code",
   "execution_count": null,
   "id": "c5313cd4-e9d5-4a3c-9824-384989645ef3",
   "metadata": {
    "tags": []
   },
   "outputs": [],
   "source": [
    "## attaching R pakages\n",
    "library(tidyverse)\n",
    "library(repr)\n",
    "library(dplyr)\n",
    "install.packages('tidymodels')\n",
    "library(tidymodels)\n",
    "library(RColorBrewer)\n",
    "install.packages('corrplot')\n",
    "library(corrplot)"
   ]
  },
  {
   "cell_type": "code",
   "execution_count": null,
   "id": "82a07a60-0de6-4d34-8d82-32804664e792",
   "metadata": {
    "tags": []
   },
   "outputs": [],
   "source": [
    "##read in dataset, preview and wrangle it\n",
    "    #name columns according to variable description from database\n",
    "    #all variables are dbl in the original dataset, convert appropriate ones to factor\n",
    "    #there are no missing values, no need to remove NA's\n",
    "    #otherwise, the dataset is tidy\n",
    "\n",
    "heart_disease <- read_csv(\"https://archive.ics.uci.edu/ml/machine-learning-databases/heart-disease/processed.cleveland.data\",col_names=FALSE)\n",
    "colnames(heart_disease) <- c('age','sex','chest_pain_type','trestbps','chol','fbs','restecg','thalach','exang','oldpeak','slope','ca','thal','num')\n",
    "heart_disease <- heart_disease |> \n",
    "        filter(num == 0 | num == 1) |>\n",
    "        mutate(num = as_factor(num)) |>\n",
    "        mutate(sex = as_factor(sex)) |>\n",
    "        mutate(chest_pain_type = as_factor(chest_pain_type)) |>\n",
    "        mutate(fbs = as_factor(fbs)) |>\n",
    "        mutate(restecg = as_factor(restecg)) |>\n",
    "        mutate(exang = as_factor(exang)) |>\n",
    "        mutate(slope = as_factor(slope)) |>\n",
    "        mutate(ca = as_factor(ca)) |>\n",
    "        mutate(thal = as_factor(thal))"
   ]
  },
  {
   "cell_type": "markdown",
   "id": "9fb5131e-2968-4c3f-a31f-7690d36cca42",
   "metadata": {},
   "source": [
    "##### Table 1: Preview of Tidied Data Set"
   ]
  },
  {
   "cell_type": "code",
   "execution_count": null,
   "id": "7dacf9ab-45c7-4f77-a65d-246dcda99d39",
   "metadata": {
    "tags": []
   },
   "outputs": [],
   "source": [
    "head(heart_disease, n = 5)"
   ]
  },
  {
   "cell_type": "code",
   "execution_count": null,
   "id": "8660b88e-eb55-4d2a-a1cc-0c8fa0056541",
   "metadata": {
    "tags": []
   },
   "outputs": [],
   "source": [
    "## find size of data set\n",
    "rows <- nrow(heart_disease)\n",
    "columns <- ncol(heart_disease)\n",
    "    # there are 219 rows of observations and 14 columns, 13 variables and one column of diagnosis\n",
    "\n",
    "##check for missing values\n",
    "missing_values <- any(is.na(heart_disease))\n",
    "sum_table=rbind(rows, columns, missing_values)"
   ]
  },
  {
   "cell_type": "markdown",
   "id": "7fe3b4ec-9a6b-4b40-8628-5825d9ad9e25",
   "metadata": {},
   "source": [
    "##### Table 2: Size and Number of Missing Values of Data Set"
   ]
  },
  {
   "cell_type": "code",
   "execution_count": null,
   "id": "294c7480-6fb9-416d-b8b3-1c4b1b5e6e03",
   "metadata": {
    "tags": []
   },
   "outputs": [],
   "source": [
    "sum_table"
   ]
  },
  {
   "cell_type": "code",
   "execution_count": null,
   "id": "2f69964d-fb80-4018-88cd-06969117a6a7",
   "metadata": {
    "tags": []
   },
   "outputs": [],
   "source": [
    "## split data into testing and training sets, 75% in training set\n",
    "set.seed(2023)\n",
    "heart_split = initial_split(heart_disease, prop=0.75, strata = num)\n",
    "heart_training = training(heart_split)\n",
    "heart_testing = testing(heart_split)\n",
    "\n",
    "##check specific sizes of training and testing data\n",
    "train_rows <- nrow(heart_training) #164 rows\n",
    "test_rows <- nrow(heart_testing)  #55 rows"
   ]
  },
  {
   "cell_type": "code",
   "execution_count": null,
   "id": "2b939a72-c4a1-4ad6-9653-f9dd0ee4aa47",
   "metadata": {
    "tags": []
   },
   "outputs": [],
   "source": [
    "##summary statistics table for all interested numerical variables:\n",
    "\n",
    "heart_training_numerics = select_if(heart_training,is.numeric)\n",
    "mean=sapply(heart_training_numerics, mean, na.rm=TRUE)\n",
    "means=as.data.frame(mean)\n",
    "means <- data.frame(t(means))\n",
    "\n",
    "sd=sapply(heart_training_numerics, sd, na.rm=TRUE)\n",
    "sds=as.data.frame(sd)\n",
    "sds=data.frame(t(sds))\n",
    "\n",
    "max=sapply(heart_training_numerics, max, na.rm=TRUE)\n",
    "maxs=as.data.frame(max)\n",
    "maxs=data.frame(t(maxs))\n",
    "\n",
    "min=sapply(heart_training_numerics, min, na.rm=TRUE)\n",
    "mins=as.data.frame(min)\n",
    "mins=data.frame(t(mins))\n",
    "\n",
    "summary_table_1 = rbind(means,sds,maxs,mins)\n",
    "\n",
    "##checking size of training set and any missing values\n",
    "training_rows <- nrow(heart_training)\n",
    "missing <- any(is.na(heart_training))\n",
    "summary_table_2 = rbind(training_rows, missing)"
   ]
  },
  {
   "cell_type": "markdown",
   "id": "92a2ce70-546a-4af5-8d38-e494deca5ad9",
   "metadata": {},
   "source": [
    "##### Tables 3 and 4: Summary Statistics of Training Set"
   ]
  },
  {
   "cell_type": "code",
   "execution_count": null,
   "id": "87886a05-7394-489e-b299-3f6b170e0a58",
   "metadata": {
    "tags": []
   },
   "outputs": [],
   "source": [
    "summary_table_1\n",
    "summary_table_2"
   ]
  },
  {
   "cell_type": "code",
   "execution_count": null,
   "id": "741a9cb1-d857-48c7-a6fc-30cfafbdff6b",
   "metadata": {
    "tags": []
   },
   "outputs": [],
   "source": [
    "##choosing predictors using visualizations\n",
    "##visualizations shown below demonstrates potentially significant differences in distribution for the following predictors\n",
    "##We used proportions of patients as the y-axis to better compare the distributions of the characteristics of the two groups due to different group sizes.\n",
    "\n",
    "# Patients in the age range [50, 60] are mostly likely to suffer from mild angiographic disease, whereas patients about 60 years old are mostly likely to suffer from\n",
    "# severe angiographis disease.\n",
    "age_plot <- heart_training |>\n",
    "    ggplot(aes(x = age, fill = num)) +\n",
    "    geom_histogram(aes(y = 100*stat(count)/sum(stat(count))),binwidth = 5) +\n",
    "    facet_grid(rows = vars(num),labeller = labeller(num = c(\"0\" = \"Mild Angiographic Disease\", \"1\" = \"Severe Angiograhic Disease\"))) +\n",
    "    labs(x = \"Age (years)\", y = \"Proportions of Patient\", fill = \"Diagnosis\\n0: Mild\\n1: Severe\") +\n",
    "    ggtitle(\"Graph 1: Age distribution of Patients Upon Admission to Hospital\") +\n",
    "    theme(text = element_text(size = 15)) +\n",
    "    scale_fill_brewer(palette = \"Reds\")\n",
    "\n",
    "\n",
    "# More males tend to have severe angiographic disease \n",
    "sex_plot <- heart_training |>\n",
    "    group_by(sex, num) |>\n",
    "    summarize(count = n()) |>\n",
    "    mutate(prop = ifelse(num == 0, count/123, count/41)) |>\n",
    "    ggplot(aes(x = sex, y = prop, fill = sex)) +\n",
    "    geom_bar(stat = 'identity', position = 'dodge') +\n",
    "    labs(x = 'Biological Sex',\n",
    "    y = 'Proportion of Patients',\n",
    "    fill = \"Biological Sex\\n0: female\\n1: male\") +\n",
    "    facet_grid(cols = vars(num),labeller = labeller(num = c(\"0\" = \"Mild Angiographic Disease\", \"1\" = \"Severe Angiograhic Disease\"))) +\n",
    "    ggtitle(\"Graph 2: Sex Proportion of Patients\") +\n",
    "    theme(text = element_text(size = 15)) +\n",
    "    scale_fill_brewer(palette = \"Reds\")\n",
    "\n",
    "# Asymptomatic chest pain type is the most prevalent in the severe patient group, instead of non-anginal pain as the most common type in the mild patient group.\n",
    "pain_plot <- heart_training |>\n",
    "    group_by(chest_pain_type, num) |>\n",
    "    summarize(count = n()) |>\n",
    "    mutate(prop = ifelse(num == 0, count/123, count/41)) |>\n",
    "    ggplot(aes(x = chest_pain_type, y = prop, fill = chest_pain_type)) +\n",
    "    geom_bar(stat = 'identity', position = 'dodge') +\n",
    "    labs(x = 'Chest Pain Type', y = 'Proportion of People with this Symptom', \n",
    "         fill = \"Chest Pain Type\\n1: typical angina\\n2: atypical angina\\n3: non-anginal pain\\n4: asymptomatic\") +\n",
    "    facet_grid(cols = vars(num), labeller = labeller(num = c(\"0\" = \"Mild Angiographic Disease\", \"1\" = \"Severe Angiograhic Disease\"))) +\n",
    "    ggtitle(\"Graph 3: Proportion of Chest Pain Type Symptoms of Patients\") +\n",
    "    theme(text = element_text(size = 15)) +\n",
    "    scale_fill_brewer(palette = \"Reds\")\n",
    "\n",
    "\n",
    "# Observable higher proportion of severe patient with fasting blood sugar less than 120. \n",
    "fbs_plot <- heart_training |>\n",
    "    group_by(fbs, num) |>\n",
    "    summarize(count = n()) |>\n",
    "    mutate(prop = ifelse(num == 0, count/123, count/41)) |>\n",
    "    ggplot(aes(x = fbs, y = prop)) +\n",
    "    geom_bar(stat = \"identity\", position = \"dodge\", aes(fill = fbs)) +\n",
    "    labs(x = \"Fasting Blood Sugar\", y = \"Proportion of Patients\",\n",
    "    fill = \"Fasting Blood Sugar\\n0: Less than 120 mg/dl\\n1: More than 120 mg/dl\") +\n",
    "    facet_grid(cols = vars(num),labeller = labeller(num = c(\"0\" = \"Mild Angiographic Disease\", \"1\" = \"Severe Angiograhic Disease\"))) +\n",
    "    ggtitle(\"Graph 4: Fasting Blood Sugar of Patients\") +\n",
    "    theme(text = element_text(size = 15)) +\n",
    "    scale_fill_brewer(palette = \"Reds\")\n",
    "\n",
    "\n",
    "# Higher proportion of severe patient with left ventricular hypertrophy. \n",
    "ecg_plot <- heart_training |>\n",
    "    group_by(restecg, num) |>\n",
    "    summarize(count = n()) |>\n",
    "    mutate(prop = ifelse(num == 0, count/123, count/41)) |>\n",
    "    ggplot(aes(x = restecg, y = prop)) +\n",
    "    geom_bar(stat = \"identity\", position = \"dodge\", aes(fill = restecg)) +\n",
    "    labs(x = \"Resting Electrocardiographic Results\", y = \"Proportion of People with this Symptom\",\n",
    "         fill = \"Resting Electrocardiographic Results\\n0: Normal\\n2: Shows Left Ventricular Hypertrophy\") +\n",
    "    facet_grid(cols = vars(num),labeller = labeller(num=c(\"0\" = \"Mild Angiographic Disease\", \"1\" = \"Severe Angiograhic Disease\"))) +\n",
    "    ggtitle(\"Graph 5: Resting Electrocardiographic Results\") +\n",
    "    theme(text = element_text(size = 15)) +\n",
    "    scale_fill_brewer(palette = \"Reds\")\n",
    "\n",
    "\n",
    "# Higher proportion of severe patient with asymptomatic exercised induced angina. \n",
    "exang_plot <- heart_training |>\n",
    "    group_by(exang, num) |>\n",
    "    summarize(count = n()) |>\n",
    "    mutate(prop = ifelse(num == 0, count/123, count/41)) |>\n",
    "    ggplot(aes(x = exang, y = prop, fill = exang)) +\n",
    "    geom_bar(stat = \"identity\", position = \"dodge\") +\n",
    "    labs(x = \"whether a patient experiences exercise induced angina\",\n",
    "    y = \"Proportion of Patients with this Symptom\",\n",
    "    fill = \"exercise induced angina\\n0: symptomatic\\n1: asymptomatic\") +\n",
    "    facet_grid(cols = vars(num),labeller = labeller(num=c(\"0\" = \"Mild Angiographic Disease\", \"1\" = \"Severe Angiograhic Disease\"))) +\n",
    "    ggtitle(\"Graph 6: Presence of exercise induced angina as a symptom\") +\n",
    "    theme(text = element_text(size = 15)) +\n",
    "    scale_fill_brewer(palette = \"Reds\")\n",
    "\n",
    "\n",
    "# Higher proportion of severe patient with flat slope of the peak exercise ST\n",
    "slope_plot <- heart_training |>\n",
    "    group_by(slope, num) |>\n",
    "    summarize(count = n()) |>\n",
    "    mutate(prop = ifelse(num == 0, count/123, count/41)) |>\n",
    "    ggplot(aes(x = slope, y = prop, fill = slope)) +\n",
    "    geom_bar(stat = \"identity\", position = \"dodge\") +\n",
    "    labs(x = \"type of slope of the peak exercise ST segment\", y = \"Proportion of Patients\",\n",
    "         fill = \"slope of the peak exercise ST segment\\n1: upsloping\\n2: flat\\n3: downsloping\") +\n",
    "    facet_grid(cols = vars(num),labeller = labeller(num=c(\"0\" = \"Mild Angiographic Disease\", \"1\" = \"Severe Angiograhic Disease\"))) +\n",
    "    ggtitle(\"Graph 7: Type of Slope of the Peak Exercise ST Segment of Patients\") +\n",
    "    theme(text = element_text(size = 15)) +\n",
    "    scale_fill_brewer(palette = \"Reds\")\n",
    "\n",
    "# Highest proportion in the severe patient group with blood vessel status as \"Reversable Defect\" instead of \"Normal\" in the \n",
    "# mild patient group\n",
    "thal_plot <- heart_training |>\n",
    "    filter(thal!='?') |>\n",
    "    group_by(thal, num) |>\n",
    "    summarize(count = n()) |>\n",
    "    mutate(prop = ifelse(num == 0, count/123, count/41)) |>\n",
    "    ggplot(aes(x = thal, y = prop, fill = thal)) +\n",
    "    geom_bar(stat = \"identity\", position = \"dodge\") +\n",
    "    labs(x = \"Thalassemia Diagnosis\",\n",
    "    y = \"Proportion of Patients with this Symptom\",\n",
    "    fill = \"Thalassemia Diagnosis \\n3: Normal\\n6: Fixed defect\\n7: Reversable Defect\") +\n",
    "    facet_grid(cols = vars(num), labeller = labeller(num=c(\"0\" = \"Mild Angiographic Disease\", \"1\" = \"Severe Angiograhic Disease\"))) +\n",
    "    ggtitle(\"Graph 8: Thalassemia Diagnosis in Patients with Angiographic Disease\") +\n",
    "    theme(text = element_text(size = 15)) +\n",
    "    scale_fill_brewer(palette = \"Reds\")"
   ]
  },
  {
   "cell_type": "code",
   "execution_count": null,
   "id": "e1790562-cc7c-4c56-9413-4e55b9666477",
   "metadata": {
    "tags": []
   },
   "outputs": [],
   "source": [
    "age_plot\n",
    "sex_plot\n",
    "pain_plot\n",
    "fbs_plot\n",
    "ecg_plot\n",
    "exang_plot\n",
    "slope_plot\n",
    "thal_plot"
   ]
  },
  {
   "cell_type": "code",
   "execution_count": null,
   "id": "67f75afe-077d-4380-9b28-1b662f167b75",
   "metadata": {
    "tags": []
   },
   "outputs": [],
   "source": [
    "set.seed(2023)\n",
    "##returning all selected variables back to numeric in order for knn-classification model to calculate distance between points\n",
    "heart_training = heart_training |>\n",
    "    mutate(sex = as.numeric(sex)) |>\n",
    "    mutate(chest_pain_type = as.numeric(chest_pain_type)) %>%\n",
    "    mutate(fbs = as.numeric(fbs)) |>\n",
    "    mutate(restecg = as.numeric(restecg)) |>\n",
    "    mutate(exang = as.numeric(exang)) |>\n",
    "    mutate(slope = as.numeric(slope)) |>\n",
    "    mutate(ca = as.numeric(ca)) |>\n",
    "    mutate(thal = as.numeric(thal))\n",
    "\n",
    "heart_testing = heart_testing |>\n",
    "    mutate(sex = as.numeric(sex)) |>\n",
    "    mutate(chest_pain_type = as.numeric(chest_pain_type)) %>%\n",
    "    mutate(fbs = as.numeric(fbs)) |>\n",
    "    mutate(restecg = as.numeric(restecg)) |>\n",
    "    mutate(exang = as.numeric(exang)) |>\n",
    "    mutate(slope = as.numeric(slope)) |>\n",
    "    mutate(ca = as.numeric(ca)) |>\n",
    "    mutate(thal = as.numeric(thal))"
   ]
  },
  {
   "cell_type": "code",
   "execution_count": null,
   "id": "61dd6ddc-4243-49c4-a0ad-ba11834b4f42",
   "metadata": {
    "tags": []
   },
   "outputs": [],
   "source": [
    "##code for draft model with initially selected predictors:\n",
    "set.seed(2023)\n",
    "\n",
    "heart_training_interested <- heart_training |>\n",
    "    select(sex, chest_pain_type, age, fbs, exang, slope, thal, restecg)\n",
    "\n",
    "predictor_names <- colnames(heart_training_interested)\n",
    "\n",
    "# create an empty tibble to store the results \n",
    "accuracies <- tibble(size = integer(),                      \n",
    "                     model_string = character(),                    \n",
    "                     accuracy = numeric())\n",
    "\n",
    "# create a model specification \n",
    "knn_spec <- nearest_neighbor(weight_func = \"rectangular\",neighbors = tune()) |>      \n",
    "  set_engine(\"kknn\") |>      \n",
    "  set_mode(\"classification\")\n",
    "\n",
    "# create a 10-fold cross-validation object \n",
    "heart_vfold <- vfold_cv(heart_training, v = 10, strata = num)\n",
    "\n",
    "# store the total number of predictors \n",
    "n_total <- length(predictor_names)\n",
    "\n",
    "# stores selected predictors \n",
    "selected <- c()\n",
    "\n",
    "# for every size from 1 to the total number of predictors \n",
    "for (i in 1:n_total) {     \n",
    "  # for every predictor still not added yet     \n",
    "  accs <- list()     \n",
    "  models <- list()     \n",
    "  for (j in 1:length(predictor_names)) {\n",
    "      \n",
    "    # create a model string for this combination of predictors        \n",
    "    preds_new <- c(\"sex\", 'chest_pain_type', 'age', 'fbs', 'exang', 'slope', 'thal','restecg')[1:i]\n",
    "    model_string <- paste(\"num\", \"~\", paste(preds_new, collapse=\"+\"))\n",
    "   \n",
    "     # create a recipe from the model string         \n",
    "    heart_recipe <- recipe(as.formula(model_string), data = heart_training) |>\n",
    "        step_scale(all_predictors()) |>       \n",
    "        step_center(all_predictors())\n",
    "    \n",
    "    # tune the KNN classifier with these predictors,         \n",
    "    # and collect the accuracy for the best K         \n",
    "    acc <- workflow() |>           \n",
    "      add_recipe(heart_recipe) |>           \n",
    "      add_model(knn_spec) |>           \n",
    "      tune_grid(resamples = heart_vfold, grid = 10) |>   \n",
    "      collect_metrics() |>           \n",
    "      filter(.metric == \"accuracy\") |>           \n",
    "      summarize(mx = max(mean))         \n",
    "    acc <- acc$mx |> unlist()\n",
    "    \n",
    "      # add this result to the dataframe         \n",
    "    accs[[j]] <- acc         \n",
    "    models[[j]] <- model_string     \n",
    "  }     \n",
    "  jstar <- which.max(unlist(accs))     \n",
    "  accuracies <- accuracies |>       \n",
    "    add_row(size = i,               \n",
    "            model_string = models[[jstar]],               \n",
    "            accuracy = accs[[jstar]])     \n",
    "  selected <- c(selected, predictor_names[[jstar]])     \n",
    "  predictor_names <- predictor_names[-jstar] \n",
    "  } "
   ]
  },
  {
   "cell_type": "markdown",
   "id": "108fe536-cf63-4c3a-b082-84dbbce08dd6",
   "metadata": {},
   "source": [
    "##### Table 5: Accuracy of Predictor Combinations"
   ]
  },
  {
   "cell_type": "code",
   "execution_count": null,
   "id": "2de26d31-8a20-4136-aa46-9b32fc0b7911",
   "metadata": {
    "tags": []
   },
   "outputs": [],
   "source": [
    "accuracies"
   ]
  },
  {
   "cell_type": "code",
   "execution_count": null,
   "id": "4b2e3bef-b6ac-49ed-a11d-b3dc355b07b1",
   "metadata": {
    "tags": []
   },
   "outputs": [],
   "source": [
    "    # A drop of accuracy due to addition of fbs and slope is unexpected; potentially a multicollinearity problem\n",
    "##creating a correlation plot to check of correlation between variables\n",
    "heart_training_interested <- heart_training |> \n",
    "    select(sex, age, exang, thal, restecg)"
   ]
  },
  {
   "cell_type": "markdown",
   "id": "84008cd9-e970-48a1-8b71-954189619d18",
   "metadata": {},
   "source": [
    "##### Graph 9: Correlation Plot of 5 Selected Final Predictors"
   ]
  },
  {
   "cell_type": "code",
   "execution_count": null,
   "id": "4f2f1169-2d43-43cc-81a3-205bad8623c2",
   "metadata": {
    "tags": []
   },
   "outputs": [],
   "source": [
    "corrplot(cor(heart_training_interested))"
   ]
  },
  {
   "cell_type": "code",
   "execution_count": null,
   "id": "fee999ec-0f0e-415c-8ecd-cfc9274174b8",
   "metadata": {
    "tags": []
   },
   "outputs": [],
   "source": [
    "set.seed(2023)\n",
    "\n",
    "##Refining classification model of manually selected predictors after observing accuracies to have optimal k value\n",
    "\n",
    "    ##create recipe with scaled predictors\n",
    "recipe <- recipe(num ~ sex+age+exang+thal+restecg, heart_training) |>\n",
    "    step_scale(all_predictors()) |>\n",
    "    step_center(all_predictors()) \n",
    "\n",
    "    ##creating model spcifications\n",
    "model <- nearest_neighbor(weight_func='rectangular',neighbors=tune()) |>\n",
    "    set_engine('kknn') |>\n",
    "    set_mode('classification')\n",
    "\n",
    "    ##preparing tibble for cross validation with 10 different k values and 10 folds\n",
    "k_vals <- tibble(neighbors=seq(from = 1, to = 20, by = 2)) \n",
    "\n",
    "data_vfold <- vfold_cv(heart_training, v = 10, strata = num)"
   ]
  },
  {
   "cell_type": "code",
   "execution_count": null,
   "id": "6c802300-a028-4000-b4bf-94750fc4533f",
   "metadata": {
    "tags": []
   },
   "outputs": [],
   "source": [
    "set.seed(2023)\n",
    "\n",
    "##putting together model specifications with the recipe to create a workflow, conduct cross validation and extract accuracies\n",
    "knn_results <- workflow() |>\n",
    "    add_recipe(recipe) |>\n",
    "    add_model(model) |>\n",
    "    tune_grid(resamples = data_vfold, grid=k_vals) |>\n",
    "    collect_metrics()\n",
    "\n",
    "accuracies_k = knn_results %>%\n",
    "    filter(.metric=='accuracy')\n",
    "\n",
    "    ##creating line graph to visually choose optimal k-value\n",
    "kneighbors <- accuracies_k |>\n",
    "    ggplot(aes(x=neighbors,y=mean)) + \n",
    "    geom_point() + \n",
    "    geom_line() +\n",
    "    labs(x = \"k values\", y = \"Accuracy of Classifier (0 to 1)\") +\n",
    "    theme(text = element_text(size = 15))\n",
    "# Optimal k = 15"
   ]
  },
  {
   "cell_type": "code",
   "execution_count": null,
   "id": "6ac2d1b6-e3ef-44fc-b054-a16dd78c8938",
   "metadata": {
    "tags": []
   },
   "outputs": [],
   "source": [
    "import mitosheet\n",
    "mitosheet.sheet()"
   ]
  },
  {
   "cell_type": "code",
   "execution_count": null,
   "id": "25353bc2-24c3-401c-a553-37c6bd6174fb",
   "metadata": {
    "tags": []
   },
   "outputs": [],
   "source": [
    "import mitosheet\n",
    "mitosheet.sheet()"
   ]
  },
  {
   "cell_type": "markdown",
   "id": "630cfa6f-b795-4137-9b09-895ac258f56f",
   "metadata": {
    "tags": []
   },
   "source": [
    "##### Table 10: Accuracy of Classifier with Different K Values"
   ]
  },
  {
   "cell_type": "code",
   "execution_count": null,
   "id": "96ec5abd-f15a-4f95-b4fb-ecb21c05acae",
   "metadata": {
    "tags": []
   },
   "outputs": [],
   "source": [
    "accuracies_k"
   ]
  },
  {
   "cell_type": "markdown",
   "id": "2f011249-782e-4905-96c1-82e2c867ef28",
   "metadata": {},
   "source": [
    "##### Graph 10: Accuracy of Classifier with Different K Values"
   ]
  },
  {
   "cell_type": "code",
   "execution_count": null,
   "id": "35b1bb40-d4db-43fd-896f-f77c96492b29",
   "metadata": {
    "tags": []
   },
   "outputs": [],
   "source": [
    "kneighbors"
   ]
  },
  {
   "cell_type": "markdown",
   "id": "e014bbe9-5772-4ccc-9e8d-ea269f48666e",
   "metadata": {},
   "source": [
    "#### Results"
   ]
  },
  {
   "cell_type": "markdown",
   "id": "5778c8c0-3e6c-4a12-bb9c-43c8738361ec",
   "metadata": {
    "tags": []
   },
   "source": [
    "- Variables chest_pain_type, fbs and slope were found to not contribute significantly to an increasing of accuracy.\n",
    "- Using the K values plot, k = 15 optimizes accuracy of the classifier using the final selected predictors of age, sex, exang, restecg, thal\n",
    "- With the aforementioned predictor combinations and k = 15, the model had an approximately 75% accuracy when tested on \"new patients\" from the testing set; accuractely diagnosed 43 out of 55 \"new patients,\" misdiagnosed 10 severe patients as mild and 2 mild patients as severe"
   ]
  },
  {
   "cell_type": "code",
   "execution_count": null,
   "id": "3567ba68-8410-48cb-a584-19ac7603ce22",
   "metadata": {
    "tags": []
   },
   "outputs": [],
   "source": [
    "set.seed(2023)\n",
    "\n",
    "##creating final model using optimized k value\n",
    "model_known_k <- nearest_neighbor(weight_func = 'rectangular',neighbors = 15) |>\n",
    "        set_engine('kknn') |>\n",
    "        set_mode('classification')\n",
    "\n",
    "data_fit <- workflow() |>\n",
    "    add_recipe(recipe) |>\n",
    "    add_model(model_known_k) |>\n",
    "    fit(data = heart_training)\n",
    "\n",
    "data_test_predictions <- predict(data_fit , heart_testing) |>\n",
    "       bind_cols(heart_testing)\n",
    "\n",
    "data_prediction_accuracy <- data_test_predictions |>\n",
    "    metrics(truth = num, estimate = .pred_class)  |>\n",
    "    filter(.metric == \"accuracy\")     \n",
    "\n",
    "data_conf_mat <- data_test_predictions |>\n",
    "    conf_mat(truth = num, estimate = .pred_class)\n",
    "\n",
    "##displaying accuracy of predictions\n",
    "data_prediction_accuracy\n",
    "data_conf_mat"
   ]
  },
  {
   "cell_type": "code",
   "execution_count": null,
   "id": "9cc070a8-9baf-4b7e-8403-2590fe904212",
   "metadata": {
    "tags": []
   },
   "outputs": [],
   "source": [
    "##creating colour-coded scatterplot of true vs. predicted diagnosis\n",
    "true_diagnosis_plot <- data_test_predictions |>\n",
    "    ggplot(aes(y = age, x = thal, color = num)) +\n",
    "    geom_point() +\n",
    "    labs(x = \"Thalassemia Diagnosis\", y = \"Age\", color = \"Angiographic Diagnosis\\n0: Mild\\n1:Severe\") +\n",
    "    ggtitle(\"True Diagnosis\") +\n",
    "    theme(text = element_text(size = 15))\n",
    "\n",
    "pred_results_plot <- data_test_predictions |>\n",
    "    ggplot(aes(y = age, x = thal, color = .pred_class)) +\n",
    "    geom_point() +\n",
    "    labs(x = \"Thalassemia Diagnosis\", y = \"Age\", color = \"Angiographic Diagnosis\\n0: Mild\\n1:Severe\") +\n",
    "    ggtitle(\"Diagnosis Predicted using KNN-Classification\") +\n",
    "    theme(text = element_text(size = 15))\n",
    "##arranging side by side\n",
    "options(repr.plot.width = 15)\n",
    "grid.arrange(true_diagnosis_plot, pred_results_plot, ncol=2)"
   ]
  },
  {
   "cell_type": "markdown",
   "id": "858f68b5-6cc1-4d3e-8069-de07c238c29f",
   "metadata": {},
   "source": [
    "#### Discussion"
   ]
  },
  {
   "cell_type": "markdown",
   "id": "b26440f0-c9e2-4863-be08-31a3da5d265b",
   "metadata": {},
   "source": [
    "In this project, we found that the final, most accurate knn-classification model trained through the training dataset from 164 patients, 5 predictors (sex, age, exang, thal, and restecg), and k=15 nearest neighbors, which yielded a prediction accuracy of approximately 75% on the testing dataset. \n",
    "\n",
    "Some of the outcomes listed above were unexpected. First, an accuracy of 75% is not so subpar that the model is not useful, but it is likely not sufficiently accurate to use reliably in a clinical setting (on average, 25 out of 100 of patients may be misdiagnosed using this model). Secondly, the five predictor variables selected using the for-loop method were not the same variables that that scholarly literature review suggested would contribute to a higher accuracy (history of diabetes (fbs), blood pressure (trestbps)). One potential explanation for these unexpected results is the multi-collinearity of many of the variables. For example, variables such as sex and history of thalassemia (thal) were found to be heavily correlated to each other, which suggests that there is not a substantial increase in additional predictive power of using both predictors (e.g. using both sex and thal). Such variables were found to slightly increase the accuracy of the predictor, so they are presumably still correlated with the diagnosis. Additionally, many of the correlated variable pairs/groups were used together in the final model, so the overall accuracy was decent - but their additional correlation suggests that they are not a truly independent variable and may have contributed to the modest level of predictive accuracy.\n",
    "\n",
    "The dataset used lacks variables with great explanatory/predictive ability. Most variables were found to correlate to each other, not correlate to the diagnosis of angiographic disease or found to correlate with diagnosis slightly, which may explain why the accuracy is not exceptionally high. We recommend the collection of more variables, such as a factor variable for smoking history, which according to literature may cause heart disease, to increase the prediction accuracy in further research.\n",
    "\n",
    "This knn-classification model developed is not likely to be of significant use to healthcare providers. A classification model that can be used to diagnose angiographic disease should ideally have an accuracy that is almost that of the actual diagnostic procedure; using the model developed in this project would result in misdiagnosis in about 25% of cases. However the results of this project can be used to inform future attempts to construct such a classifier. Observations for attributes that correlate stronger to diagnosis of angiographic disease severity, or even is the cause behind it, should be measured for datasets that could train a knn-model more accurately.\n",
    "\n",
    "A more in depth analysis of the relationship between the variables should take place prior to developing a model, to account for our issue with multi-collinearity. Moreover, beyond the statistical correlation between variables, the causal relationship between the variables in our dataset and a diagnosis could be examined further. Additionally, knn-classification may have simply not been the most effective model, as there are many predictive models in existence that could better account for the kinds of issues that we encountered."
   ]
  },
  {
   "cell_type": "markdown",
   "id": "96c47854-62ab-4cf3-9da5-71f20a3125b6",
   "metadata": {},
   "source": [
    "#### References"
   ]
  },
  {
   "cell_type": "markdown",
   "id": "f8e311cc-4a50-42cd-8a8f-8f11daf379f5",
   "metadata": {},
   "source": [
    "Benson R. A. et al. (2019). The Relationship Between Severity of Arterial Disease Quantified by the Bollinger Angiographic Scoring Method, Presenting Symptoms and Signs and Preoperative \n",
    "Comorbidities in the Bypass Versus Angioplasty in Severe Ischaemia of the Leg (BASIL) Trial. $European$ $Journal$ $of$ $Vascular$ & $Endovascular$ $Surgery$, 58($6$), e483-e484.\n",
    "\n",
    "Carson J.A.S et al. (2020) Dietary Cholesterol and Cardiovascular Risk: A Science Advisory From the \n",
    "American Heart Association. $Circulation$, 141($3$), e39-353. \n",
    "https://doi.org/10.1161/CIR.0000000000000743\n",
    "\n",
    "Janosi A. et al. (1988, July 1). Heart Disease Data Set [Dataset]. UCI Machine Learning Repository. Retrieved from: https://archive.ics.uci.edu/ml/datasets/Heart+Disease\n",
    "\n",
    "Jousilaht P. et al (1999). Sex, Age, Cardiovascular Risk Factors, and Coronary Heart Disease: A \n",
    "Prospective Follow-Up Study of 14 786 Middle-Aged Men and Women in Finland. $Circulation$, \n",
    "99($9$), 1165-1175. https://doi.org/10.1161/01.CIR.99.9.1165\n",
    "\n",
    "World Health Organization. (n.d.). $The$ $top$ $10$ $causes$ $of$ $death.$ World Health Organization. Retrieved March 5, 2023, from https://www.who.int/news-room/fact-sheets/detail/the-top-10-causes-of-death "
   ]
  },
  {
   "cell_type": "markdown",
   "id": "3c111184-d9df-499e-8140-a98ccb281019",
   "metadata": {},
   "source": [
    "#### Appendix"
   ]
  },
  {
   "cell_type": "markdown",
   "id": "7746ef7a-c94e-4ff4-bbb7-3568e941e481",
   "metadata": {},
   "source": [
    "##### Definitions and Descriptions of Variables (in order of column number from left to right)\n",
    "note: bolded variables are those used as predictors used in our final knn-classifier model\n",
    "1. ##### age measured in years\n",
    "2. ##### sex: 0 denotes female, 1 denotes male\n",
    "3. chest_pain_type: 1 denotes typical angina (caused by insufficient blood flow to heart muscles), 2 denotes atypical angina, 3 denotes non-anginal pain, 4 denotes no chest pain \n",
    "4. trestbps: resting blood pressure, measured in mm Hg upon admission to hospistal\n",
    "5. chol: serum cholestoral level, measured in mg/dl\n",
    "6. fbs: fasting blood sugar, 0 denotes less than 120 mg/dl, 1 denotes more than 120 mg/dl\n",
    "7. ##### restecg: resting electrocardiograph results, 0 denotes normal, 1 denotes ST-T wave abnormality, 2 denotes left ventricular hypertrophy\n",
    "8. thalach: maximum heart rate achieved (number of heartbeats per minute)\n",
    "9. ##### exang: exercise-induced angina (chest pain), 0 denotes asymptomatic, 1 denotes symptomatic\n",
    "10. oldpeak: ST depression induced by exercise relative to rest\n",
    "11. slope: type of slope at the peak of the ST segment, units not specified\n",
    "12. ca: number of major vessels colored by flourosopy, values 0 to 3 (whole numbers)\n",
    "13. ##### thal: undefined attribute that we assume represents thalassemia, 3 denotes normal, 6 denotes fixed defect, 7 represents reversable defect\n",
    "14. ##### num (the predicted attribute): diagnosis of angiographic disease status, 0 denotes mild (less than 50% diameter narrowing, 1 denotes severe (more than 50% diameter narrowing)"
   ]
  }
 ],
 "metadata": {
  "kernelspec": {
   "display_name": "R",
   "language": "R",
   "name": "ir"
  },
  "language_info": {
   "codemirror_mode": "r",
   "file_extension": ".r",
   "mimetype": "text/x-r-source",
   "name": "R",
   "pygments_lexer": "r",
   "version": "4.2.2"
  }
 },
 "nbformat": 4,
 "nbformat_minor": 5
}
